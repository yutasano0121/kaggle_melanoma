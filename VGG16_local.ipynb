{
 "cells": [
  {
   "cell_type": "code",
   "execution_count": 3,
   "metadata": {},
   "outputs": [
    {
     "name": "stdout",
     "output_type": "stream",
     "text": [
      "WARNING:tensorflow:From /home/ec2-user/anaconda3/envs/tensorflow_p36/lib/python3.6/site-packages/tensorflow_core/__init__.py:1473: The name tf.estimator.inputs is deprecated. Please use tf.compat.v1.estimator.inputs instead.\n",
      "\n"
     ]
    }
   ],
   "source": [
    "import re\n",
    "import os\n",
    "import numpy as np\n",
    "import pandas as pd\n",
    "import tensorflow as tf\n",
    "from functools import partial\n",
    "from sklearn.model_selection import train_test_split\n",
    "import tempfile"
   ]
  },
  {
   "cell_type": "code",
   "execution_count": 4,
   "metadata": {},
   "outputs": [],
   "source": [
    "AUTOTUNE = tf.data.experimental.AUTOTUNE\n",
    "IMAGE_SIZE = [1024, 1024]\n",
    "BATCH_SIZE = 32"
   ]
  },
  {
   "cell_type": "code",
   "execution_count": 5,
   "metadata": {},
   "outputs": [],
   "source": [
    "# Split into train and validation sets.\n",
    "path_to_images = tf.io.gfile.glob(os.path.join('train_jpg', '*.jpg'))\n",
    "labels = pd.read_csv(os.path.join('train_jpg', 'retained_labels.csv'))\n",
    "path_to_images.sort()  # Sort both path names and labels data frame so that they have the same order.\n",
    "labels.sort_values(by=['id'], inplace=True)\n",
    "\n",
    "train_fnames, valid_fnames, train_labels, valid_labels = train_test_split(\n",
    "    path_to_images,\n",
    "    labels['label'].values,\n",
    "    test_size=0.2,\n",
    "    random_state=0\n",
    ")"
   ]
  },
  {
   "cell_type": "code",
   "execution_count": 6,
   "metadata": {},
   "outputs": [],
   "source": [
    "# Define functions for loading data.\n",
    "# Turn a loaded JPEG image into a tensor.\n",
    "def preprocess_image(image):\n",
    "    image = tf.image.decode_jpeg(image, channels=3)\n",
    "    image = tf.cast(image, tf.float32) / 255.0\n",
    "    image = tf.image.resize(image, IMAGE_SIZE)  # What's the difference b/w reshape and resize?\n",
    "    return image\n",
    "\n",
    "# Load JPEG files.\n",
    "def load_preprocess_image(path):\n",
    "    image = tf.io.read_file(path)\n",
    "    return preprocess_image(image)\n",
    "\n",
    "# Make a dataset.\n",
    "def load_train_dataset(filenames, labels):\n",
    "    path_ds = tf.data.Dataset.from_tensor_slices(filenames)\n",
    "    image_ds = path_ds.map(load_preprocess_image, num_parallel_calls=AUTOTUNE)\n",
    "    label_ds = tf.data.Dataset.from_tensor_slices(labels)  # Load labels.\n",
    "    image_label_ds = tf.data.Dataset.zip((image_ds, label_ds))  # Zip images and labels.\n",
    "    \n",
    "    num_images = len(filenames)\n",
    "    \n",
    "    ds_out = image_label_ds.apply(\n",
    "        tf.data.experimental.shuffle_and_repeat(buffer_size=num_images)\n",
    "    )\n",
    "    ds_out = ds_out.batch(BATCH_SIZE)\n",
    "    ds_out = ds_out.prefetch(buffer_size=AUTOTUNE)\n",
    "\n",
    "    return ds_out, num_images  # Return a dataset and number of items.\n",
    "\n",
    "def load_valid_dataset(filenames, labels):\n",
    "    path_ds = tf.data.Dataset.from_tensor_slices(filenames)\n",
    "    image_ds = path_ds.map(load_preprocess_image, num_parallel_calls=AUTOTUNE)\n",
    "    label_ds = tf.data.Dataset.from_tensor_slices(labels)  # Load labels.\n",
    "    image_label_ds = tf.data.Dataset.zip((image_ds, label_ds))  # Zip images and labels.\n",
    "    \n",
    "    num_images = len(filenames)\n",
    "    \n",
    "    ds_out = image_label_ds.batch(BATCH_SIZE)\n",
    "    ds_out = ds_out.cache()\n",
    "    ds_out = ds_out.prefetch(buffer_size=AUTOTUNE)\n",
    "\n",
    "    return ds_out, num_images  # Return a dataset and number of items.\n",
    "\n",
    "def load_test_dataset(filenames):\n",
    "    path_ds = tf.data.Dataset.from_tensor_slices(filenames)\n",
    "    image_ds = path_ds.map(load_preprocess_image, num_parallel_calls=AUTOTUNE)\n",
    "\n",
    "    ds_out = image_ds.batch(BATCH_SIZE)\n",
    "    ds_out = ds_out.prefetch(buffer_size=AUTOTUNE)\n",
    "\n",
    "    return ds_out  # Return an image dataset alone."
   ]
  },
  {
   "cell_type": "code",
   "execution_count": 7,
   "metadata": {},
   "outputs": [
    {
     "name": "stdout",
     "output_type": "stream",
     "text": [
      "WARNING:tensorflow:From <ipython-input-6-1bd02d44b725>:24: shuffle_and_repeat (from tensorflow.python.data.experimental.ops.shuffle_ops) is deprecated and will be removed in a future version.\n",
      "Instructions for updating:\n",
      "Use `tf.data.Dataset.shuffle(buffer_size, seed)` followed by `tf.data.Dataset.repeat(count)`. Static tf.data optimizations will take care of using the fused implementation.\n"
     ]
    }
   ],
   "source": [
    "train_ds, num_train_images = load_train_dataset(train_fnames[0:32], train_labels)\n",
    "valid_ds, num_valid_images = load_valid_dataset(valid_fnames[0:32], valid_labels)"
   ]
  },
  {
   "cell_type": "code",
   "execution_count": 9,
   "metadata": {},
   "outputs": [
    {
     "data": {
      "text/plain": [
       "32"
      ]
     },
     "execution_count": 9,
     "metadata": {},
     "output_type": "execute_result"
    }
   ],
   "source": [
    "num_train_images"
   ]
  },
  {
   "cell_type": "code",
   "execution_count": 6,
   "metadata": {},
   "outputs": [],
   "source": [
    "def build_lrfn(\n",
    "    lr_start=0.00001, lr_max=0.000075, \n",
    "    lr_min=0.000001, lr_rampup_epochs=20, \n",
    "    lr_sustain_epochs=0, lr_exp_decay=.8\n",
    "):\n",
    "    def lrfn(epoch):\n",
    "        if epoch < lr_rampup_epochs:\n",
    "            lr = (lr_max - lr_start) / lr_rampup_epochs * epoch + lr_start\n",
    "        elif epoch < lr_rampup_epochs + lr_sustain_epochs:\n",
    "            lr = lr_max\n",
    "        else:\n",
    "            lr = (lr_max - lr_min) * lr_exp_decay ** (epoch - lr_rampup_epochs - lr_sustain_epochs) + lr_min\n",
    "        return lr\n",
    "    return lrfn"
   ]
  },
  {
   "cell_type": "code",
   "execution_count": 7,
   "metadata": {},
   "outputs": [],
   "source": [
    "def make_model(output_bias = None, metrics = None):\n",
    "    # Create the base model from the pre-trained model MobileNet V2\n",
    "    \n",
    "    if output_bias is not None:\n",
    "        output_bias = tf.keras.initializers.Constant(output_bias)\n",
    "        \n",
    "    base_model = tf.keras.applications.VGG16(\n",
    "        input_shape=(*IMAGE_SIZE, 3),\n",
    "        include_top=False,\n",
    "        weights='imagenet'\n",
    "    )\n",
    "    \n",
    "    base_model.trainable = False\n",
    "    \n",
    "    model = tf.keras.Sequential([\n",
    "        base_model,\n",
    "        tf.keras.layers.GlobalAveragePooling2D(),\n",
    "        tf.keras.layers.Dense(\n",
    "            8, activation='relu'\n",
    "        ),\n",
    "        tf.keras.layers.Dense(\n",
    "            1, activation='sigmoid',\n",
    "            bias_initializer=output_bias\n",
    "        )\n",
    "    ])\n",
    "    \n",
    "    model.compile(\n",
    "        optimizer=tf.keras.optimizers.RMSprop(),\n",
    "        loss='binary_crossentropy',\n",
    "        metrics=[metrics]\n",
    "    )\n",
    "    \n",
    "    return model"
   ]
  },
  {
   "cell_type": "code",
   "execution_count": 8,
   "metadata": {},
   "outputs": [
    {
     "name": "stdout",
     "output_type": "stream",
     "text": [
      "WARNING:tensorflow:From /home/ec2-user/anaconda3/envs/tensorflow_p36/lib/python3.6/site-packages/tensorflow_core/python/ops/resource_variable_ops.py:1630: calling BaseResourceVariable.__init__ (from tensorflow.python.ops.resource_variable_ops) with constraint is deprecated and will be removed in a future version.\n",
      "Instructions for updating:\n",
      "If using Keras pass *_constraint arguments to layers.\n",
      "WARNING:tensorflow:OMP_NUM_THREADS is no longer used by the default Keras config. To configure the number of threads, use tf.config.threading APIs.\n",
      "WARNING:tensorflow:From /home/ec2-user/anaconda3/envs/tensorflow_p36/lib/python3.6/site-packages/tensorflow_core/python/ops/nn_impl.py:183: where (from tensorflow.python.ops.array_ops) is deprecated and will be removed in a future version.\n",
      "Instructions for updating:\n",
      "Use tf.where in 2.0, which has the same broadcast rule as np.where\n"
     ]
    }
   ],
   "source": [
    "model = make_model(\n",
    "    metrics=tf.keras.metrics.AUC(name='auc')\n",
    ")"
   ]
  },
  {
   "cell_type": "code",
   "execution_count": 9,
   "metadata": {},
   "outputs": [],
   "source": [
    "lrfn = build_lrfn()\n",
    "STEPS_PER_EPOCH = num_train_images // BATCH_SIZE\n",
    "VALID_STEPS = num_valid_images // BATCH_SIZE"
   ]
  },
  {
   "cell_type": "code",
   "execution_count": null,
   "metadata": {},
   "outputs": [
    {
     "name": "stdout",
     "output_type": "stream",
     "text": [
      "Train on 1 steps, validate on 1 steps\n",
      "\n",
      "Epoch 00001: LearningRateScheduler reducing learning rate to 1e-05.\n",
      "Epoch 1/3\n"
     ]
    }
   ],
   "source": [
    "history = model.fit(\n",
    "    train_ds, epochs=3,\n",
    "    steps_per_epoch=STEPS_PER_EPOCH,\n",
    "    validation_data=valid_ds,\n",
    "    validation_steps=VALID_STEPS,\n",
    "    callbacks=[\n",
    "        tf.keras.callbacks.LearningRateScheduler(lrfn, verbose=1)\n",
    "    ]\n",
    ")"
   ]
  },
  {
   "cell_type": "code",
   "execution_count": null,
   "metadata": {},
   "outputs": [],
   "source": [
    "ds = load_test_dataset(train_fnames[0:32])\n"
   ]
  },
  {
   "cell_type": "code",
   "execution_count": null,
   "metadata": {},
   "outputs": [],
   "source": [
    "pred = model.predict(ds)"
   ]
  },
  {
   "cell_type": "code",
   "execution_count": null,
   "metadata": {},
   "outputs": [],
   "source": [
    "pred\n"
   ]
  },
  {
   "cell_type": "code",
   "execution_count": null,
   "metadata": {},
   "outputs": [],
   "source": []
  }
 ],
 "metadata": {
  "kernelspec": {
   "display_name": "conda_tensorflow_p36",
   "language": "python",
   "name": "conda_tensorflow_p36"
  },
  "language_info": {
   "codemirror_mode": {
    "name": "ipython",
    "version": 3
   },
   "file_extension": ".py",
   "mimetype": "text/x-python",
   "name": "python",
   "nbconvert_exporter": "python",
   "pygments_lexer": "ipython3",
   "version": "3.6.10"
  }
 },
 "nbformat": 4,
 "nbformat_minor": 4
}
