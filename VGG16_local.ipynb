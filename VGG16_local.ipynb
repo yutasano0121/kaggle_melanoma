{
 "cells": [
  {
   "cell_type": "code",
   "execution_count": 1,
   "metadata": {},
   "outputs": [],
   "source": [
    "import re\n",
    "import os\n",
    "import numpy as np\n",
    "import pandas as pd\n",
    "import tensorflow as tf\n",
    "from functools import partial\n",
    "from sklearn.model_selection import train_test_split\n",
    "import tempfile"
   ]
  },
  {
   "cell_type": "code",
   "execution_count": 2,
   "metadata": {},
   "outputs": [],
   "source": [
    "AUTOTUNE = tf.data.experimental.AUTOTUNE\n",
    "IMAGE_SIZE = [1024, 1024]\n",
    "BATCH_SIZE = 32"
   ]
  },
  {
   "cell_type": "code",
   "execution_count": 3,
   "metadata": {},
   "outputs": [],
   "source": [
    "# Split into train and validation sets.\n",
    "train_fnames, valid_fnames, train_labels, valid_labels = train_test_split(\n",
    "    tf.io.gfile.glob('train_jpg/*.jpg'), \n",
    "    np.load('labels_retained.npy'),\n",
    "    test_size=0.2, \n",
    "    random_state=0\n",
    ")"
   ]
  },
  {
   "cell_type": "code",
   "execution_count": 15,
   "metadata": {},
   "outputs": [],
   "source": [
    "# Define functions for loading data.\n",
    "# Turn a loaded JPEG image into a tensor.\n",
    "def preprocess_image(image):\n",
    "    image = tf.image.decode_jpeg(image, channels=3)\n",
    "    image = tf.cast(image, tf.float32) / 255.0\n",
    "    image = tf.image.resize(image, IMAGE_SIZE)  # What's the difference b/w reshape and resize?\n",
    "    return image\n",
    "\n",
    "# Load JPEG files.\n",
    "def load_preprocess_image(path):\n",
    "    image = tf.io.read_file(path)\n",
    "    return preprocess_image(image)\n",
    "\n",
    "# Make a dataset.\n",
    "def load_train_dataset(filenames, labels):\n",
    "    path_ds = tf.data.Dataset.from_tensor_slices(filenames)\n",
    "    image_ds = path_ds.map(load_preprocess_image, num_parallel_calls=AUTOTUNE)\n",
    "    label_ds = tf.data.Dataset.from_tensor_slices(labels)  # Load labels.\n",
    "    image_label_ds = tf.data.Dataset.zip((image_ds, label_ds))  # Zip images and labels.\n",
    "    \n",
    "    num_images = len(filenames)\n",
    "    \n",
    "    ds_out = image_label_ds.apply(\n",
    "        tf.data.experimental.shuffle_and_repeat(buffer_size=num_images)\n",
    "    )\n",
    "    ds_out = ds_out.batch(BATCH_SIZE)\n",
    "    ds_out = ds_out.prefetch(buffer_size=AUTOTUNE)\n",
    "\n",
    "    return ds_out, num_images  # Return a dataset and number of items.\n",
    "\n",
    "def load_valid_dataset(filenames, labels):\n",
    "    path_ds = tf.data.Dataset.from_tensor_slices(filenames)\n",
    "    image_ds = path_ds.map(load_preprocess_image, num_parallel_calls=AUTOTUNE)\n",
    "    label_ds = tf.data.Dataset.from_tensor_slices(labels)  # Load labels.\n",
    "    image_label_ds = tf.data.Dataset.zip((image_ds, label_ds))  # Zip images and labels.\n",
    "    \n",
    "    num_images = len(filenames)\n",
    "    \n",
    "    ds_out = image_label_ds.batch(BATCH_SIZE)\n",
    "    ds_out = ds_out.cache()\n",
    "    ds_out = ds_out.prefetch(buffer_size=AUTOTUNE)\n",
    "\n",
    "    return ds_out, num_images  # Return a dataset and number of items.\n",
    "\n",
    "def load_test_dataset(filenames):\n",
    "    path_ds = tf.data.Dataset.from_tensor_slices(filenames)\n",
    "    image_ds = path_ds.map(load_preprocess_image, num_parallel_calls=AUTOTUNE)\n",
    "\n",
    "    ds_out = image_ds.batch(BATCH_SIZE)\n",
    "    ds_out = ds_out.prefetch(buffer_size=AUTOTUNE)\n",
    "\n",
    "    return ds_out  # Return an image dataset alone."
   ]
  },
  {
   "cell_type": "code",
   "execution_count": 5,
   "metadata": {},
   "outputs": [
    {
     "name": "stdout",
     "output_type": "stream",
     "text": [
      "WARNING:tensorflow:From <ipython-input-4-a9d3fcfd89e9>:24: shuffle_and_repeat (from tensorflow.python.data.experimental.ops.shuffle_ops) is deprecated and will be removed in a future version.\n",
      "Instructions for updating:\n",
      "Use `tf.data.Dataset.shuffle(buffer_size, seed)` followed by `tf.data.Dataset.repeat(count)`. Static tf.data optimizations will take care of using the fused implementation.\n"
     ]
    }
   ],
   "source": [
    "train_ds, num_train_images = load_train_dataset(train_fnames[0:32], train_labels)\n",
    "valid_ds, num_valid_images = load_valid_dataset(valid_fnames[0:32], valid_labels)"
   ]
  },
  {
   "cell_type": "code",
   "execution_count": 6,
   "metadata": {},
   "outputs": [],
   "source": [
    "def build_lrfn(\n",
    "    lr_start=0.00001, lr_max=0.000075, \n",
    "    lr_min=0.000001, lr_rampup_epochs=20, \n",
    "    lr_sustain_epochs=0, lr_exp_decay=.8\n",
    "):\n",
    "    def lrfn(epoch):\n",
    "        if epoch < lr_rampup_epochs:\n",
    "            lr = (lr_max - lr_start) / lr_rampup_epochs * epoch + lr_start\n",
    "        elif epoch < lr_rampup_epochs + lr_sustain_epochs:\n",
    "            lr = lr_max\n",
    "        else:\n",
    "            lr = (lr_max - lr_min) * lr_exp_decay ** (epoch - lr_rampup_epochs - lr_sustain_epochs) + lr_min\n",
    "        return lr\n",
    "    return lrfn"
   ]
  },
  {
   "cell_type": "code",
   "execution_count": 7,
   "metadata": {},
   "outputs": [],
   "source": [
    "def make_model(output_bias = None, metrics = None):\n",
    "    # Create the base model from the pre-trained model MobileNet V2\n",
    "    \n",
    "    if output_bias is not None:\n",
    "        output_bias = tf.keras.initializers.Constant(output_bias)\n",
    "        \n",
    "    base_model = tf.keras.applications.VGG16(\n",
    "        input_shape=(*IMAGE_SIZE, 3),\n",
    "        include_top=False,\n",
    "        weights='imagenet'\n",
    "    )\n",
    "    \n",
    "    base_model.trainable = False\n",
    "    \n",
    "    model = tf.keras.Sequential([\n",
    "        base_model,\n",
    "        tf.keras.layers.GlobalAveragePooling2D(),\n",
    "        tf.keras.layers.Dense(\n",
    "            8, activation='relu'\n",
    "        ),\n",
    "        tf.keras.layers.Dense(\n",
    "            1, activation='sigmoid',\n",
    "            bias_initializer=output_bias\n",
    "        )\n",
    "    ])\n",
    "    \n",
    "    model.compile(\n",
    "        optimizer=tf.keras.optimizers.RMSprop(),\n",
    "        loss='binary_crossentropy',\n",
    "        metrics=metrics\n",
    "    )\n",
    "    \n",
    "    return model"
   ]
  },
  {
   "cell_type": "code",
   "execution_count": 8,
   "metadata": {},
   "outputs": [],
   "source": [
    "model = make_model(\n",
    "    metrics=tf.keras.metrics.AUC(name='auc')\n",
    ")"
   ]
  },
  {
   "cell_type": "code",
   "execution_count": 9,
   "metadata": {},
   "outputs": [],
   "source": [
    "lrfn = build_lrfn()\n",
    "STEPS_PER_EPOCH = num_train_images // BATCH_SIZE\n",
    "VALID_STEPS = num_valid_images // BATCH_SIZE"
   ]
  },
  {
   "cell_type": "code",
   "execution_count": 10,
   "metadata": {},
   "outputs": [
    {
     "name": "stdout",
     "output_type": "stream",
     "text": [
      "\n",
      "Epoch 00001: LearningRateScheduler reducing learning rate to 1e-05.\n",
      "Epoch 1/3\n",
      "1/1 [==============================] - 232s 232s/step - loss: 0.9503 - auc: 0.4615 - val_loss: 0.8777 - val_auc: 0.4471 - lr: 1.0000e-05\n",
      "\n",
      "Epoch 00002: LearningRateScheduler reducing learning rate to 1.325e-05.\n",
      "Epoch 2/3\n",
      "1/1 [==============================] - 221s 221s/step - loss: 0.9488 - auc: 0.4271 - val_loss: 0.8766 - val_auc: 0.3941 - lr: 1.3250e-05\n",
      "\n",
      "Epoch 00003: LearningRateScheduler reducing learning rate to 1.65e-05.\n",
      "Epoch 3/3\n",
      "1/1 [==============================] - 310s 310s/step - loss: 0.9475 - auc: 0.4555 - val_loss: 0.8755 - val_auc: 0.4275 - lr: 1.6500e-05\n"
     ]
    }
   ],
   "source": [
    "history = model.fit(\n",
    "    train_ds, epochs=3,\n",
    "    steps_per_epoch=STEPS_PER_EPOCH,\n",
    "    validation_data=valid_ds,\n",
    "    validation_steps=VALID_STEPS,\n",
    "    callbacks=[\n",
    "        tf.keras.callbacks.LearningRateScheduler(lrfn, verbose=1)\n",
    "    ]\n",
    ")"
   ]
  },
  {
   "cell_type": "code",
   "execution_count": 16,
   "metadata": {},
   "outputs": [],
   "source": [
    "ds = load_test_dataset(train_fnames[0:32])\n"
   ]
  },
  {
   "cell_type": "code",
   "execution_count": 17,
   "metadata": {},
   "outputs": [],
   "source": [
    "pred = model.predict(ds)"
   ]
  },
  {
   "cell_type": "code",
   "execution_count": 18,
   "metadata": {},
   "outputs": [
    {
     "data": {
      "text/plain": [
       "array([[0.74847436],\n",
       "       [0.7555566 ],\n",
       "       [0.75395626],\n",
       "       [0.7540812 ],\n",
       "       [0.7481322 ],\n",
       "       [0.7573752 ],\n",
       "       [0.74900055],\n",
       "       [0.7445854 ],\n",
       "       [0.7304162 ],\n",
       "       [0.75058496],\n",
       "       [0.7622591 ],\n",
       "       [0.76029503],\n",
       "       [0.75988936],\n",
       "       [0.755166  ],\n",
       "       [0.7539537 ],\n",
       "       [0.7537733 ],\n",
       "       [0.75265926],\n",
       "       [0.7496214 ],\n",
       "       [0.75989544],\n",
       "       [0.75561464],\n",
       "       [0.7473942 ],\n",
       "       [0.75829566],\n",
       "       [0.7496162 ],\n",
       "       [0.75186676],\n",
       "       [0.7457945 ],\n",
       "       [0.7582307 ],\n",
       "       [0.7597212 ],\n",
       "       [0.76188326],\n",
       "       [0.75703835],\n",
       "       [0.7518357 ],\n",
       "       [0.7542299 ],\n",
       "       [0.75614274]], dtype=float32)"
      ]
     },
     "execution_count": 18,
     "metadata": {},
     "output_type": "execute_result"
    }
   ],
   "source": [
    "pred\n"
   ]
  },
  {
   "cell_type": "code",
   "execution_count": null,
   "metadata": {},
   "outputs": [],
   "source": []
  }
 ],
 "metadata": {
  "kernelspec": {
   "display_name": "Python 3",
   "language": "python",
   "name": "python3"
  },
  "language_info": {
   "codemirror_mode": {
    "name": "ipython",
    "version": 3
   },
   "file_extension": ".py",
   "mimetype": "text/x-python",
   "name": "python",
   "nbconvert_exporter": "python",
   "pygments_lexer": "ipython3",
   "version": "3.6.10"
  }
 },
 "nbformat": 4,
 "nbformat_minor": 4
}
