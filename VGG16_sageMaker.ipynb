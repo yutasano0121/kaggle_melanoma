{
 "cells": [
  {
   "cell_type": "code",
   "execution_count": 1,
   "metadata": {},
   "outputs": [],
   "source": [
    "import re\n",
    "import os\n",
    "import numpy as np\n",
    "import pandas as pd\n",
    "import tensorflow as tf\n",
    "from functools import partial\n",
    "from sklearn.model_selection import train_test_split\n",
    "import tempfile"
   ]
  },
  {
   "cell_type": "code",
   "execution_count": null,
   "metadata": {},
   "outputs": [],
   "source": [
    "from source.support_functions import load_test_dataset"
   ]
  },
  {
   "cell_type": "code",
   "execution_count": null,
   "metadata": {},
   "outputs": [],
   "source": [
    "# sagemaker parameters\n",
    "import sagemaker\n",
    "from sagemaker import get_execution_role\n",
    "from sagemaker.amazon.amazon_estimator import get_image_uri\n",
    "import boto3\n",
    "\n",
    "session = sagemaker.Session()\n",
    "role = get_execution_role()\n",
    "bucket = session.default_bucket()\n",
    "prefix = 'kaggle/melanoma'  # Prefix should not tontain '/' at the end!\n",
    "s3 = boto3.client('s3')"
   ]
  },
  {
   "cell_type": "code",
   "execution_count": null,
   "metadata": {},
   "outputs": [],
   "source": [
    "data_location = os.path.join('s3://', bucket, prefix)"
   ]
  },
  {
   "cell_type": "code",
   "execution_count": null,
   "metadata": {},
   "outputs": [],
   "source": [
    "train_new = True\n",
    "if train_new:\n",
    "    from sagemaker.tensorflow import TensorFlow\n",
    "    # Initiate a TensorFlow instance.\n",
    "\n",
    "    \"\"\"When using version 2.1, 'setup.py' is needed in the 'source' directory\"\"\"\n",
    "\n",
    "    tf_estimator = TensorFlow(\n",
    "        entry_point='VGG16_train.py',\n",
    "        source_dir='source',\n",
    "        role=role,\n",
    "        train_instance_count=1,\n",
    "        train_instance_type='ml.p2.xlarge',\n",
    "        #framework_version='2.1.0',\n",
    "        #py_version='py3',\n",
    "        output_path=os.path.join('s3://', bucket, prefix, 'model'),\n",
    "        model_dir=os.path.join('s3://', bucket, prefix, 'model'),\n",
    "        hyperparameters={\n",
    "            'epochs': 15,\n",
    "            'lr_max': 0.0001,\n",
    "            'batch_size': 32,\n",
    "            'image_size': 1024\n",
    "        }\n",
    "    )\n",
    "    tf_estimator.fit(data_location)\n",
    "    \n",
    "    model_data = tf_estimator.model_data\n",
    "    subprocess.check_call('echo {} > bert_model.txt'.format(model_data), shell=True)\n",
    "\n",
    "else:\n",
    "    with open('bert_model.txt', 'r') as f:\n",
    "        model_data = f.read().split()[0]\n",
    "    print(\"Use a previously trained model.\")\n",
    "    \n",
    "print(model_data)"
   ]
  },
  {
   "cell_type": "code",
   "execution_count": 16,
   "metadata": {},
   "outputs": [],
   "source": [
    "ds = load_test_dataset(PATH_TO_TEST_DATA)\n"
   ]
  },
  {
   "cell_type": "code",
   "execution_count": 17,
   "metadata": {},
   "outputs": [],
   "source": [
    "pred = model.predict(ds)"
   ]
  },
  {
   "cell_type": "code",
   "execution_count": 18,
   "metadata": {},
   "outputs": [
    {
     "data": {
      "text/plain": [
       "array([[0.74847436],\n",
       "       [0.7555566 ],\n",
       "       [0.75395626],\n",
       "       [0.7540812 ],\n",
       "       [0.7481322 ],\n",
       "       [0.7573752 ],\n",
       "       [0.74900055],\n",
       "       [0.7445854 ],\n",
       "       [0.7304162 ],\n",
       "       [0.75058496],\n",
       "       [0.7622591 ],\n",
       "       [0.76029503],\n",
       "       [0.75988936],\n",
       "       [0.755166  ],\n",
       "       [0.7539537 ],\n",
       "       [0.7537733 ],\n",
       "       [0.75265926],\n",
       "       [0.7496214 ],\n",
       "       [0.75989544],\n",
       "       [0.75561464],\n",
       "       [0.7473942 ],\n",
       "       [0.75829566],\n",
       "       [0.7496162 ],\n",
       "       [0.75186676],\n",
       "       [0.7457945 ],\n",
       "       [0.7582307 ],\n",
       "       [0.7597212 ],\n",
       "       [0.76188326],\n",
       "       [0.75703835],\n",
       "       [0.7518357 ],\n",
       "       [0.7542299 ],\n",
       "       [0.75614274]], dtype=float32)"
      ]
     },
     "execution_count": 18,
     "metadata": {},
     "output_type": "execute_result"
    }
   ],
   "source": [
    "pred\n"
   ]
  },
  {
   "cell_type": "code",
   "execution_count": null,
   "metadata": {},
   "outputs": [],
   "source": []
  }
 ],
 "metadata": {
  "kernelspec": {
   "display_name": "Python 3",
   "language": "python",
   "name": "python3"
  },
  "language_info": {
   "codemirror_mode": {
    "name": "ipython",
    "version": 3
   },
   "file_extension": ".py",
   "mimetype": "text/x-python",
   "name": "python",
   "nbconvert_exporter": "python",
   "pygments_lexer": "ipython3",
   "version": "3.6.10"
  }
 },
 "nbformat": 4,
 "nbformat_minor": 4
}
